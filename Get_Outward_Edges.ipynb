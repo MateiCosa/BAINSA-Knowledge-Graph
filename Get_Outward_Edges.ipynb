{
 "cells": [
  {
   "cell_type": "markdown",
   "id": "6c740f8d",
   "metadata": {},
   "source": [
    "## Introduction"
   ]
  },
  {
   "cell_type": "markdown",
   "id": "38a5a558",
   "metadata": {},
   "source": [
    "This notebook is part of the BAINSA Wikipedia Knowledge Graph Project. Using the Wiki Dumps, we aim to construct an unweighted directed graph containg the Wikipedia articles as nodes and page links as edges. In this particular notebook, we use the file \"inward_edges.txt\" to produce the *outward edges* which constitute in fact our final preliminary representation of the graph."
   ]
  },
  {
   "cell_type": "code",
   "execution_count": 1,
   "id": "f5827324",
   "metadata": {},
   "outputs": [],
   "source": [
    "def outward_edges(article_file_path, inward_edges_file_path):\n",
    "        \n",
    "        if not isinstance(article_file_path, str) or not isinstance(inward_edges_file_path, str):\n",
    "            raise Exception(\"Paths must be strings!\")\n",
    "        \n",
    "        G = dict()\n",
    "        \n",
    "        #read the article ids and use them as dict keys\n",
    "        \n",
    "        with open(article_file_path) as f:\n",
    "            for line in f.readlines():\n",
    "                line = line[:-1].split(\" \")\n",
    "                node = line[0]  #id   \n",
    "                article_title = line[1] # title\n",
    "                G[node] = []\n",
    "                \n",
    "        #read the source node id and its neighbours and \"flip\" the dictionary\n",
    "        \n",
    "        with open(inward_edges_file_path) as g:\n",
    "            line = g.readline()\n",
    "            while line:\n",
    "                line = line[:-1].split(\" \") #remove the \\n at the end of the line\n",
    "                src_node = line[0]\n",
    "                for node in line[1:]:\n",
    "                    G[node].append(src_node) #inverse relationship\n",
    "                line = g.readline()\n",
    "        \n",
    "        return G\n",
    "        "
   ]
  },
  {
   "cell_type": "code",
   "execution_count": 14,
   "id": "b1d200e5",
   "metadata": {},
   "outputs": [],
   "source": [
    "def create_file(G):\n",
    "    \n",
    "    with open(\"outward_edges.txt\", \"w\") as output:\n",
    "        for key in G:\n",
    "            output.write(key + \" \" + ' '.join(G[key]) + \"\\n\")\n",
    "            "
   ]
  },
  {
   "cell_type": "code",
   "execution_count": 3,
   "id": "6e5cbaeb",
   "metadata": {},
   "outputs": [],
   "source": [
    "G = outward_edges(\"final_articles.txt\", \"inward_edges.txt\")"
   ]
  },
  {
   "cell_type": "code",
   "execution_count": 15,
   "id": "cd701724",
   "metadata": {},
   "outputs": [],
   "source": [
    "create_file(G)"
   ]
  },
  {
   "cell_type": "markdown",
   "id": "a95dc1d6",
   "metadata": {},
   "source": [
    "## Conclusion"
   ]
  },
  {
   "cell_type": "markdown",
   "id": "7edaf879",
   "metadata": {},
   "source": [
    "By processing the file containing the inward edges, we invert the relationships in order to produce the outward edges form of the graph, which will be at the centre of our future developments."
   ]
  }
 ],
 "metadata": {
  "kernelspec": {
   "display_name": "Python 3 (ipykernel)",
   "language": "python",
   "name": "python3"
  },
  "language_info": {
   "codemirror_mode": {
    "name": "ipython",
    "version": 3
   },
   "file_extension": ".py",
   "mimetype": "text/x-python",
   "name": "python",
   "nbconvert_exporter": "python",
   "pygments_lexer": "ipython3",
   "version": "3.9.7"
  }
 },
 "nbformat": 4,
 "nbformat_minor": 5
}
